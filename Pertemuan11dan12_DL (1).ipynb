{
  "nbformat": 4,
  "nbformat_minor": 0,
  "metadata": {
    "colab": {
      "provenance": []
    },
    "kernelspec": {
      "name": "python3",
      "display_name": "Python 3"
    },
    "language_info": {
      "name": "python"
    }
  },
  "cells": [
    {
      "cell_type": "markdown",
      "source": [
        "Overfitting\n",
        "\n",
        "definisi: sebuah fenomena dimana model yang digunakan terlalu cocok atau sesuai dengan data training sehingga kehilangan kemampuan untuk melakukan deteksi pada data baru (data testing)"
      ],
      "metadata": {
        "id": "Lt6h7wkEqSGO"
      }
    },
    {
      "cell_type": "markdown",
      "source": [
        "contoh: ketika hasil training bagus, tapi hasil testingnya buruk"
      ],
      "metadata": {
        "id": "SicUU2aSqVu-"
      }
    },
    {
      "cell_type": "markdown",
      "source": [
        "\n",
        "Beberapa karakteristik utama terjadinya overfitting:\n",
        "\n",
        "1. Performanya tinggi pada data training, tetapi rendah di testing\n",
        "2. Model yang dibuat terlalu rumit"
      ],
      "metadata": {
        "id": "LNrsodCDr01L"
      }
    },
    {
      "cell_type": "markdown",
      "source": [
        "Penyebab Overfitting:\n",
        "\n",
        "1. Data trainingnya terlalu sedikit\n",
        "2. Datanya tidak beragam\n",
        "3. Model terlalu kompleks\n",
        "4. Proses training terlalu lama"
      ],
      "metadata": {
        "id": "OiYevvXTr5a4"
      }
    },
    {
      "cell_type": "markdown",
      "source": [
        "Cara Mengatasi overfitting:\n",
        "\n",
        "1. Sediakan data yang banyak\n",
        "2. Menggunakan Dropout\n",
        "3. Cross Validation"
      ],
      "metadata": {
        "id": "BAQKRwwIsBLv"
      }
    },
    {
      "cell_type": "code",
      "source": [
        "import matplotlib.pyplot as plt\n",
        "from tensorflow.keras.datasets import fashion_mnist\n",
        "\n",
        "(train_images,train_labels),(test_images,test_labels) = fashion_mnist.load_data()"
      ],
      "metadata": {
        "id": "qAmQ80kIsJQq"
      },
      "execution_count": 8,
      "outputs": []
    },
    {
      "cell_type": "code",
      "source": [
        "print(\"Ukuran Citra Train\",train_images.shape)\n",
        "print(\"Jumlah Label Train\",train_labels.shape)\n",
        "\n",
        "print(\"Ukuran Citra Test\",test_images.shape)#10.000 itu jumlah gambarnya, 28x28 itu ukuran gambar/citranya\n",
        "print(\"Jumlah Label Test\",test_labels.shape)"
      ],
      "metadata": {
        "colab": {
          "base_uri": "https://localhost:8080/"
        },
        "id": "FMa-5pbzsPE4",
        "outputId": "90c618f8-40cf-4251-ea17-595cb1666b75"
      },
      "execution_count": 9,
      "outputs": [
        {
          "output_type": "stream",
          "name": "stdout",
          "text": [
            "Ukuran Citra Train (60000, 28, 28)\n",
            "Jumlah Label Train (60000,)\n",
            "Ukuran Citra Test (10000, 28, 28)\n",
            "Jumlah Label Test (10000,)\n"
          ]
        }
      ]
    },
    {
      "cell_type": "code",
      "source": [
        "print(set(train_labels))"
      ],
      "metadata": {
        "colab": {
          "base_uri": "https://localhost:8080/"
        },
        "id": "WjGSeFl0sTpq",
        "outputId": "7fb8874c-bbe0-4fc2-cfa5-3ec7de64a173"
      },
      "execution_count": 10,
      "outputs": [
        {
          "output_type": "stream",
          "name": "stdout",
          "text": [
            "{0, 1, 2, 3, 4, 5, 6, 7, 8, 9}\n"
          ]
        }
      ]
    },
    {
      "cell_type": "code",
      "source": [
        "train_images = train_images.reshape((60000,28 * 28))\n",
        "train_images = train_images.astype(\"float32\") / 255\n",
        "\n",
        "test_images = test_images.reshape((10000,28 * 28))\n",
        "test_images = test_images.astype(\"float32\") / 255"
      ],
      "metadata": {
        "id": "GgAF63kQsU_d"
      },
      "execution_count": 11,
      "outputs": []
    },
    {
      "cell_type": "code",
      "source": [
        "#Arsitektur Modelnya\n",
        "import tensorflow as tf\n",
        "import numpy as np\n",
        "\n",
        "model = tf.keras.Sequential([\n",
        "    tf.keras.layers.Dense(512, activation = 'relu'),\n",
        "    tf.keras.layers.Dense(10,activation = 'sigmoid')\n",
        "])"
      ],
      "metadata": {
        "id": "2oMXxUMMsXuF"
      },
      "execution_count": 12,
      "outputs": []
    },
    {
      "cell_type": "code",
      "source": [
        "model.compile(optimizer ='rmsprop', loss='sparse_categorical_crossentropy', metrics=['accuracy'])"
      ],
      "metadata": {
        "id": "Pb8cubKYsaQG"
      },
      "execution_count": 13,
      "outputs": []
    },
    {
      "cell_type": "code",
      "source": [
        "sampel_train_images = train_images[:100]\n",
        "sampel_train_labels = train_labels[:100]"
      ],
      "metadata": {
        "id": "3Mt6qy3HscSv"
      },
      "execution_count": 14,
      "outputs": []
    },
    {
      "cell_type": "code",
      "source": [
        "sampel_train_images.shape"
      ],
      "metadata": {
        "colab": {
          "base_uri": "https://localhost:8080/"
        },
        "id": "8-L8IhWpsfJS",
        "outputId": "f1c8cb4b-7d77-4f35-ab46-6ac161984419"
      },
      "execution_count": 15,
      "outputs": [
        {
          "output_type": "execute_result",
          "data": {
            "text/plain": [
              "(100, 784)"
            ]
          },
          "metadata": {},
          "execution_count": 15
        }
      ]
    },
    {
      "cell_type": "code",
      "source": [
        "model.fit(sampel_train_images,sampel_train_labels, epochs= 10, batch_size=128)"
      ],
      "metadata": {
        "colab": {
          "base_uri": "https://localhost:8080/"
        },
        "id": "FWXHtp4dsioc",
        "outputId": "ca9902a0-bcdf-469c-cae0-58d1f5454eeb"
      },
      "execution_count": 16,
      "outputs": [
        {
          "output_type": "stream",
          "name": "stdout",
          "text": [
            "Epoch 1/10\n",
            "1/1 [==============================] - 1s 555ms/step - loss: 2.3117 - accuracy: 0.1600\n",
            "Epoch 2/10\n",
            "1/1 [==============================] - 0s 17ms/step - loss: 2.3015 - accuracy: 0.2700\n",
            "Epoch 3/10\n",
            "1/1 [==============================] - 0s 15ms/step - loss: 1.7766 - accuracy: 0.4500\n",
            "Epoch 4/10\n",
            "1/1 [==============================] - 0s 17ms/step - loss: 1.4335 - accuracy: 0.5900\n",
            "Epoch 5/10\n",
            "1/1 [==============================] - 0s 16ms/step - loss: 0.9757 - accuracy: 0.7500\n",
            "Epoch 6/10\n",
            "1/1 [==============================] - 0s 16ms/step - loss: 0.8810 - accuracy: 0.7900\n",
            "Epoch 7/10\n",
            "1/1 [==============================] - 0s 16ms/step - loss: 0.7286 - accuracy: 0.8100\n",
            "Epoch 8/10\n",
            "1/1 [==============================] - 0s 15ms/step - loss: 0.8182 - accuracy: 0.7600\n",
            "Epoch 9/10\n",
            "1/1 [==============================] - 0s 14ms/step - loss: 0.8739 - accuracy: 0.8000\n",
            "Epoch 10/10\n",
            "1/1 [==============================] - 0s 14ms/step - loss: 0.5921 - accuracy: 0.8700\n"
          ]
        },
        {
          "output_type": "execute_result",
          "data": {
            "text/plain": [
              "<keras.src.callbacks.History at 0x7acc56429ae0>"
            ]
          },
          "metadata": {},
          "execution_count": 16
        }
      ]
    },
    {
      "cell_type": "code",
      "source": [
        "prediksi = model(test_images)\n",
        "prediksi = prediksi.numpy() #supaya hasilnya array\n",
        "prediksi_label = np.argmax(prediksi,axis=1)\n",
        "prediksi_betul = prediksi_label == test_labels\n",
        "print(f\"akurasi hasil data test :{prediksi_betul.mean():.2f}\")"
      ],
      "metadata": {
        "colab": {
          "base_uri": "https://localhost:8080/"
        },
        "id": "HfLyc3ouslaK",
        "outputId": "45d4dc88-e1f7-465f-c90a-baece5e3eba0"
      },
      "execution_count": 17,
      "outputs": [
        {
          "output_type": "stream",
          "name": "stdout",
          "text": [
            "akurasi hasil data test :0.61\n"
          ]
        }
      ]
    },
    {
      "cell_type": "markdown",
      "source": [
        "Pembuatan Model yang lebih Deep"
      ],
      "metadata": {
        "id": "P1j0PRyZsrgz"
      }
    },
    {
      "cell_type": "code",
      "source": [
        "#Arsitektur Modelnya\n",
        "import tensorflow as tf\n",
        "import numpy as np\n",
        "\n",
        "model_kedua = tf.keras.Sequential([\n",
        "    tf.keras.layers.Dense(512, activation = 'relu'),\n",
        "    tf.keras.layers.Dropout(0.5),\n",
        "    tf.keras.layers.Dense(256, activation = 'relu'),\n",
        "    tf.keras.layers.Dropout(0.5),\n",
        "    tf.keras.layers.Dense(128, activation = 'relu'),\n",
        "    tf.keras.layers.Dense(64, activation = 'relu'),\n",
        "    tf.keras.layers.Dense(32, activation = 'relu'),\n",
        "    tf.keras.layers.Dense(10,activation = 'sigmoid')\n",
        "])"
      ],
      "metadata": {
        "id": "ti43OxP5sn7d"
      },
      "execution_count": 18,
      "outputs": []
    },
    {
      "cell_type": "code",
      "source": [
        "model_kedua.compile(optimizer ='rmsprop', loss='sparse_categorical_crossentropy', metrics=['accuracy'])"
      ],
      "metadata": {
        "id": "GWpPzbx2suY6"
      },
      "execution_count": 19,
      "outputs": []
    },
    {
      "cell_type": "code",
      "source": [
        "model_kedua.fit(train_images,train_labels, epochs= 10, batch_size=256)"
      ],
      "metadata": {
        "colab": {
          "base_uri": "https://localhost:8080/"
        },
        "id": "zg8fl_TEswtZ",
        "outputId": "710bdb37-b49a-4c15-b04d-c9210dce77e7"
      },
      "execution_count": 20,
      "outputs": [
        {
          "output_type": "stream",
          "name": "stdout",
          "text": [
            "Epoch 1/10\n",
            "235/235 [==============================] - 6s 20ms/step - loss: 0.7836 - accuracy: 0.7054\n",
            "Epoch 2/10\n",
            "235/235 [==============================] - 6s 26ms/step - loss: 0.5135 - accuracy: 0.8147\n",
            "Epoch 3/10\n",
            "235/235 [==============================] - 5s 20ms/step - loss: 0.4598 - accuracy: 0.8334\n",
            "Epoch 4/10\n",
            "235/235 [==============================] - 5s 19ms/step - loss: 0.4307 - accuracy: 0.8450\n",
            "Epoch 5/10\n",
            "235/235 [==============================] - 6s 25ms/step - loss: 0.4125 - accuracy: 0.8516\n",
            "Epoch 6/10\n",
            "235/235 [==============================] - 5s 19ms/step - loss: 0.3955 - accuracy: 0.8565\n",
            "Epoch 7/10\n",
            "235/235 [==============================] - 5s 22ms/step - loss: 0.3780 - accuracy: 0.8627\n",
            "Epoch 8/10\n",
            "235/235 [==============================] - 5s 23ms/step - loss: 0.3698 - accuracy: 0.8656\n",
            "Epoch 9/10\n",
            "235/235 [==============================] - 5s 20ms/step - loss: 0.3634 - accuracy: 0.8681\n",
            "Epoch 10/10\n",
            "235/235 [==============================] - 6s 26ms/step - loss: 0.3536 - accuracy: 0.8719\n"
          ]
        },
        {
          "output_type": "execute_result",
          "data": {
            "text/plain": [
              "<keras.src.callbacks.History at 0x7acc55a660b0>"
            ]
          },
          "metadata": {},
          "execution_count": 20
        }
      ]
    },
    {
      "cell_type": "code",
      "source": [
        "model_kedua.summary()"
      ],
      "metadata": {
        "colab": {
          "base_uri": "https://localhost:8080/"
        },
        "id": "PbIFTo1htBhE",
        "outputId": "f629bd0f-488a-41fd-fc1f-468e8d24bdcc"
      },
      "execution_count": 21,
      "outputs": [
        {
          "output_type": "stream",
          "name": "stdout",
          "text": [
            "Model: \"sequential_1\"\n",
            "_________________________________________________________________\n",
            " Layer (type)                Output Shape              Param #   \n",
            "=================================================================\n",
            " dense_2 (Dense)             (None, 512)               401920    \n",
            "                                                                 \n",
            " dropout (Dropout)           (None, 512)               0         \n",
            "                                                                 \n",
            " dense_3 (Dense)             (None, 256)               131328    \n",
            "                                                                 \n",
            " dropout_1 (Dropout)         (None, 256)               0         \n",
            "                                                                 \n",
            " dense_4 (Dense)             (None, 128)               32896     \n",
            "                                                                 \n",
            " dense_5 (Dense)             (None, 64)                8256      \n",
            "                                                                 \n",
            " dense_6 (Dense)             (None, 32)                2080      \n",
            "                                                                 \n",
            " dense_7 (Dense)             (None, 10)                330       \n",
            "                                                                 \n",
            "=================================================================\n",
            "Total params: 576810 (2.20 MB)\n",
            "Trainable params: 576810 (2.20 MB)\n",
            "Non-trainable params: 0 (0.00 Byte)\n",
            "_________________________________________________________________\n"
          ]
        }
      ]
    },
    {
      "cell_type": "code",
      "source": [
        "prediksi = model_kedua(test_images)\n",
        "prediksi = prediksi.numpy() #supaya hasilnya array\n",
        "prediksi_label = np.argmax(prediksi,axis=1)\n",
        "prediksi_betul = prediksi_label == test_labels\n",
        "print(f\"akurasi hasil data test :{prediksi_betul.mean():.2f}\")"
      ],
      "metadata": {
        "colab": {
          "base_uri": "https://localhost:8080/"
        },
        "id": "9B8lqecVtYry",
        "outputId": "f285cf7d-4797-49f4-94f8-01f267e28aaf"
      },
      "execution_count": 22,
      "outputs": [
        {
          "output_type": "stream",
          "name": "stdout",
          "text": [
            "akurasi hasil data test :0.87\n"
          ]
        }
      ]
    },
    {
      "cell_type": "markdown",
      "source": [
        "Tujuan Dropout adalah untuk mencegah terjadinya overfitting."
      ],
      "metadata": {
        "id": "ia35pc_ItfHo"
      }
    },
    {
      "cell_type": "markdown",
      "source": [
        "Pretrained Model (Model yang sudah dilatih)"
      ],
      "metadata": {
        "id": "aS1R85L0tf6j"
      }
    },
    {
      "cell_type": "code",
      "source": [
        "model_kedua.save('model_Jafar_Sodik.JS')"
      ],
      "metadata": {
        "id": "lt4x0b-FtbVV"
      },
      "execution_count": 23,
      "outputs": []
    },
    {
      "cell_type": "markdown",
      "source": [
        "##Pre-Trained Model"
      ],
      "metadata": {
        "id": "LhGKZEHR8B2q"
      }
    },
    {
      "cell_type": "markdown",
      "source": [
        "menggunakan model yang sudah dilatih"
      ],
      "metadata": {
        "id": "H62ALcP88Ltd"
      }
    },
    {
      "cell_type": "code",
      "source": [
        "import matplotlib.pyplot as plt\n",
        "from tensorflow.keras.datasets import fashion_mnist\n",
        "\n",
        "(train_images,train_labels),(test_images,test_labels) = fashion_mnist.load_data()"
      ],
      "metadata": {
        "id": "r5M9rYG0wXTt"
      },
      "execution_count": 24,
      "outputs": []
    },
    {
      "cell_type": "code",
      "source": [
        "train_images = train_images.reshape((60000,28 * 28))\n",
        "train_images = train_images.astype(\"float32\") / 255\n",
        "\n",
        "test_images = test_images.reshape((10000,28 * 28))\n",
        "test_images = test_images.astype(\"float32\") / 255"
      ],
      "metadata": {
        "id": "n77M70g3warL"
      },
      "execution_count": 25,
      "outputs": []
    },
    {
      "cell_type": "code",
      "source": [
        "from tensorflow.keras.models import load_model"
      ],
      "metadata": {
        "id": "aCLtpWOZwoWS"
      },
      "execution_count": 26,
      "outputs": []
    },
    {
      "cell_type": "code",
      "source": [
        "pretrained_model = load_model('model_Jafar_Sodik.JS')"
      ],
      "metadata": {
        "id": "V3NaZksrwxFJ"
      },
      "execution_count": 27,
      "outputs": []
    },
    {
      "cell_type": "code",
      "source": [
        "import numpy as np"
      ],
      "metadata": {
        "id": "YJok-eK77v1T"
      },
      "execution_count": 28,
      "outputs": []
    },
    {
      "cell_type": "code",
      "source": [
        "prediksi = pretrained_model(test_images)\n",
        "prediksi = prediksi.numpy() #supaya hasilnya array\n",
        "prediksi_label = np.argmax(prediksi,axis=1)\n",
        "prediksi_betul = prediksi_label == test_labels\n",
        "print(f\"akurasi hasil data test :{prediksi_betul.mean():.2f}\")"
      ],
      "metadata": {
        "colab": {
          "base_uri": "https://localhost:8080/"
        },
        "id": "JrcjDauA7fKU",
        "outputId": "c0e1bd0d-96c5-4dd4-ea33-7e2864daf3ec"
      },
      "execution_count": 29,
      "outputs": [
        {
          "output_type": "stream",
          "name": "stdout",
          "text": [
            "akurasi hasil data test :0.87\n"
          ]
        }
      ]
    },
    {
      "cell_type": "markdown",
      "source": [
        "## Underfitting"
      ],
      "metadata": {
        "id": "FAvNYCO08Zaa"
      }
    },
    {
      "cell_type": "markdown",
      "source": [
        "definisi : situasi dimana model tidak dapat menangkap pola yang cukup proses training <br>\n",
        "\n",
        "Penyebab:\n",
        "1. Modelnya terlalu sederhana\n",
        "2. Data training terbatas\n",
        "3. Proses Training tidak cukup\n",
        "4. Parameter training tidak sesuai"
      ],
      "metadata": {
        "id": "YLs9L3Q58daZ"
      }
    },
    {
      "cell_type": "markdown",
      "source": [
        "Cara mengatasi:\n",
        "1. Meningkatkan kompleksitas model\n",
        "2. Datanya lebih banyak dan representatif\n",
        "3. Menyesuaikan parameter"
      ],
      "metadata": {
        "id": "bLyDODOi9XII"
      }
    },
    {
      "cell_type": "code",
      "source": [
        "#Arsitektur Modelnya\n",
        "import tensorflow as tf\n",
        "import numpy as np\n",
        "\n",
        "model_kedua = tf.keras.Sequential([\n",
        "        tf.keras.layers.Dense(10, activation = 'relu'),\n",
        "])"
      ],
      "metadata": {
        "id": "94ap6Iu98qFN"
      },
      "execution_count": 30,
      "outputs": []
    },
    {
      "cell_type": "code",
      "source": [
        "model_kedua.compile(optimizer ='rmsprop', loss='sparse_categorical_crossentropy', metrics=['accuracy'])"
      ],
      "metadata": {
        "id": "u24RbQ7A-EHG"
      },
      "execution_count": 31,
      "outputs": []
    },
    {
      "cell_type": "code",
      "source": [
        "model_kedua.fit(train_images,train_labels, epochs= 3, batch_size=124)"
      ],
      "metadata": {
        "colab": {
          "base_uri": "https://localhost:8080/"
        },
        "id": "ycsmfric-W2U",
        "outputId": "45afae18-bf00-4822-8c6b-d7eae204b913"
      },
      "execution_count": 33,
      "outputs": [
        {
          "output_type": "stream",
          "name": "stdout",
          "text": [
            "Epoch 1/3\n",
            "484/484 [==============================] - 1s 2ms/step - loss: 2.0898 - accuracy: 0.1931\n",
            "Epoch 2/3\n",
            "484/484 [==============================] - 1s 2ms/step - loss: 2.0941 - accuracy: 0.1909\n",
            "Epoch 3/3\n",
            "484/484 [==============================] - 2s 3ms/step - loss: 2.0881 - accuracy: 0.1938\n"
          ]
        },
        {
          "output_type": "execute_result",
          "data": {
            "text/plain": [
              "<keras.src.callbacks.History at 0x7acc56a5ae30>"
            ]
          },
          "metadata": {},
          "execution_count": 33
        }
      ]
    },
    {
      "cell_type": "markdown",
      "source": [
        "# Learning Rate"
      ],
      "metadata": {
        "id": "nWh7ivE4-sGo"
      }
    },
    {
      "cell_type": "markdown",
      "source": [
        "Definisi:\n",
        "Merupakan parameter penting dalam proses training, Learning rate merupakan nilai yang menentukan seberapa besar penyesuaian yang dilakukan pada bobot (weight) model pada setiap proses training"
      ],
      "metadata": {
        "id": "WwsLiw2p-zbx"
      }
    },
    {
      "cell_type": "markdown",
      "source": [
        "Learning rate mengontrol seberapa cepat atau lambat model untuk belajar.\n",
        "jika nilai learning rate tinggi, dapat menyebabkan model model cepat belajar, tapi beresiko melewatkan kesalahan.\n",
        "Jika learning ratenya rendah, maka model akan belajar lebih hati-hati, tetapi proses pembelajaran menjadi lebih lambat."
      ],
      "metadata": {
        "id": "qqEd-Nh8_PBu"
      }
    },
    {
      "cell_type": "code",
      "source": [
        "#Arsitektur Modelnya\n",
        "import tensorflow as tf\n",
        "import numpy as np\n",
        "\n",
        "model_kedua = tf.keras.Sequential([\n",
        "    tf.keras.layers.Dense(512, activation = 'relu'),\n",
        "    tf.keras.layers.Dropout(0.5),\n",
        "    tf.keras.layers.Dense(256, activation = 'relu'),\n",
        "    tf.keras.layers.Dropout(0.5),\n",
        "    tf.keras.layers.Dense(128, activation = 'relu'),\n",
        "    tf.keras.layers.Dense(64, activation = 'relu'),\n",
        "    tf.keras.layers.Dense(32, activation = 'relu'),\n",
        "    tf.keras.layers.Dense(10,activation = 'sigmoid')\n",
        "])"
      ],
      "metadata": {
        "id": "2TYlzqHIAJ8A"
      },
      "execution_count": 40,
      "outputs": []
    },
    {
      "cell_type": "code",
      "source": [
        "learning_rate1 = 0.001"
      ],
      "metadata": {
        "id": "9xaKNA0zAakD"
      },
      "execution_count": 41,
      "outputs": []
    },
    {
      "cell_type": "code",
      "source": [
        "model_kedua.compile(optimizer =tf.keras.optimizers.RMSprop(learning_rate = learning_rate1), loss='sparse_categorical_crossentropy', metrics=['accuracy'])"
      ],
      "metadata": {
        "id": "hmzbASaoAYzT"
      },
      "execution_count": 42,
      "outputs": []
    },
    {
      "cell_type": "code",
      "source": [
        "model_kedua.fit(train_images,train_labels, epochs= 10, batch_size=256)"
      ],
      "metadata": {
        "colab": {
          "base_uri": "https://localhost:8080/"
        },
        "id": "4Zdz6KYJBmcV",
        "outputId": "6583abde-75f2-4617-b083-e1c56ba71710"
      },
      "execution_count": 43,
      "outputs": [
        {
          "output_type": "stream",
          "name": "stdout",
          "text": [
            "Epoch 1/10\n",
            "235/235 [==============================] - 6s 20ms/step - loss: 0.8066 - accuracy: 0.7023\n",
            "Epoch 2/10\n",
            "235/235 [==============================] - 6s 25ms/step - loss: 0.5150 - accuracy: 0.8137\n",
            "Epoch 3/10\n",
            "235/235 [==============================] - 5s 20ms/step - loss: 0.4583 - accuracy: 0.8334\n",
            "Epoch 4/10\n",
            "235/235 [==============================] - 5s 20ms/step - loss: 0.4348 - accuracy: 0.8435\n",
            "Epoch 5/10\n",
            "235/235 [==============================] - 6s 26ms/step - loss: 0.4079 - accuracy: 0.8530\n",
            "Epoch 6/10\n",
            "235/235 [==============================] - 5s 20ms/step - loss: 0.3950 - accuracy: 0.8569\n",
            "Epoch 7/10\n",
            "235/235 [==============================] - 5s 21ms/step - loss: 0.3833 - accuracy: 0.8618\n",
            "Epoch 8/10\n",
            "235/235 [==============================] - 6s 24ms/step - loss: 0.3714 - accuracy: 0.8661\n",
            "Epoch 9/10\n",
            "235/235 [==============================] - 5s 20ms/step - loss: 0.3631 - accuracy: 0.8684\n",
            "Epoch 10/10\n",
            "235/235 [==============================] - 6s 25ms/step - loss: 0.3550 - accuracy: 0.8710\n"
          ]
        },
        {
          "output_type": "execute_result",
          "data": {
            "text/plain": [
              "<keras.src.callbacks.History at 0x7acc55b13370>"
            ]
          },
          "metadata": {},
          "execution_count": 43
        }
      ]
    }
  ]
}